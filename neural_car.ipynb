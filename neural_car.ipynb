{
 "cells": [
  {
   "cell_type": "code",
   "execution_count": 31,
   "metadata": {},
   "outputs": [],
   "source": [
    "import numpy as np\n",
    "import pandas as pd\n",
    "import matplotlib.pyplot as plt\n",
    "from sklearn.preprocessing import StandardScaler\n",
    "\n",
    "import tensorflow as tf\n",
    "from tensorflow.keras.models import Sequential\n",
    "from tensorflow.keras.layers import Flatten, Dense, Dropout\n",
    "from tensorflow.keras.optimizers import SGD, Adam\n",
    "\n",
    "np.set_printoptions(suppress=True)\n",
    "%matplotlib inline"
   ]
  },
  {
   "cell_type": "code",
   "execution_count": 17,
   "metadata": {},
   "outputs": [
    {
     "data": {
      "text/html": [
       "<div>\n",
       "<style scoped>\n",
       "    .dataframe tbody tr th:only-of-type {\n",
       "        vertical-align: middle;\n",
       "    }\n",
       "\n",
       "    .dataframe tbody tr th {\n",
       "        vertical-align: top;\n",
       "    }\n",
       "\n",
       "    .dataframe thead th {\n",
       "        text-align: right;\n",
       "    }\n",
       "</style>\n",
       "<table border=\"1\" class=\"dataframe\">\n",
       "  <thead>\n",
       "    <tr style=\"text-align: right;\">\n",
       "      <th></th>\n",
       "      <th>mpg</th>\n",
       "      <th>cylinders</th>\n",
       "      <th>displacement</th>\n",
       "      <th>horsepower</th>\n",
       "      <th>weight</th>\n",
       "      <th>acceleration</th>\n",
       "      <th>model</th>\n",
       "      <th>origin</th>\n",
       "      <th>car_name</th>\n",
       "    </tr>\n",
       "  </thead>\n",
       "  <tbody>\n",
       "    <tr>\n",
       "      <th>0</th>\n",
       "      <td>18.0</td>\n",
       "      <td>8</td>\n",
       "      <td>307.0</td>\n",
       "      <td>130.0</td>\n",
       "      <td>3504.0</td>\n",
       "      <td>12.0</td>\n",
       "      <td>70</td>\n",
       "      <td>1</td>\n",
       "      <td>chevrolet chevelle malibu</td>\n",
       "    </tr>\n",
       "    <tr>\n",
       "      <th>1</th>\n",
       "      <td>15.0</td>\n",
       "      <td>8</td>\n",
       "      <td>350.0</td>\n",
       "      <td>165.0</td>\n",
       "      <td>3693.0</td>\n",
       "      <td>11.5</td>\n",
       "      <td>70</td>\n",
       "      <td>1</td>\n",
       "      <td>buick skylark 320</td>\n",
       "    </tr>\n",
       "    <tr>\n",
       "      <th>2</th>\n",
       "      <td>18.0</td>\n",
       "      <td>8</td>\n",
       "      <td>318.0</td>\n",
       "      <td>150.0</td>\n",
       "      <td>3436.0</td>\n",
       "      <td>11.0</td>\n",
       "      <td>70</td>\n",
       "      <td>1</td>\n",
       "      <td>plymouth satellite</td>\n",
       "    </tr>\n",
       "  </tbody>\n",
       "</table>\n",
       "</div>"
      ],
      "text/plain": [
       "    mpg  cylinders  displacement horsepower  weight  acceleration  model  \\\n",
       "0  18.0          8         307.0      130.0  3504.0          12.0     70   \n",
       "1  15.0          8         350.0      165.0  3693.0          11.5     70   \n",
       "2  18.0          8         318.0      150.0  3436.0          11.0     70   \n",
       "\n",
       "   origin                   car_name  \n",
       "0       1  chevrolet chevelle malibu  \n",
       "1       1          buick skylark 320  \n",
       "2       1         plymouth satellite  "
      ]
     },
     "execution_count": 17,
     "metadata": {},
     "output_type": "execute_result"
    }
   ],
   "source": [
    "df = pd.read_csv('cars_data.csv')\n",
    "df.head(3)"
   ]
  },
  {
   "cell_type": "code",
   "execution_count": 24,
   "metadata": {},
   "outputs": [],
   "source": [
    "#data cleaning\n",
    "df['horsepower'] = pd.to_numeric(df.horsepower, errors='coerce')\n",
    "df.horsepower.fillna(df.horsepower.mean(), inplace=True)"
   ]
  },
  {
   "cell_type": "code",
   "execution_count": 25,
   "metadata": {},
   "outputs": [
    {
     "data": {
      "text/plain": [
       "array([18., 15., 18., 16., 17., 15., 14., 14., 14., 15.])"
      ]
     },
     "execution_count": 25,
     "metadata": {},
     "output_type": "execute_result"
    }
   ],
   "source": [
    "#scale data\n",
    "y = df.mpg\n",
    "X = df.drop(['mpg', 'car_name', 'origin'], axis=1)\n",
    "scalar = StandardScaler()\n",
    "X = scalar.fit_transform(X)\n",
    "X[:3]\n",
    "y = y.values\n",
    "y[:10]"
   ]
  },
  {
   "cell_type": "code",
   "execution_count": 26,
   "metadata": {},
   "outputs": [
    {
     "data": {
      "text/plain": [
       "{'name': 'Adam',\n",
       " 'learning_rate': 0.001,\n",
       " 'decay': 0.0,\n",
       " 'beta_1': 0.9,\n",
       " 'beta_2': 0.999,\n",
       " 'epsilon': 1e-07,\n",
       " 'amsgrad': False}"
      ]
     },
     "execution_count": 26,
     "metadata": {},
     "output_type": "execute_result"
    }
   ],
   "source": [
    "#set up the optimizer\n",
    "opt = Adam(learning_rate=0.001)\n",
    "opt.get_config()"
   ]
  },
  {
   "cell_type": "code",
   "execution_count": 37,
   "metadata": {},
   "outputs": [
    {
     "name": "stdout",
     "output_type": "stream",
     "text": [
      "Model: \"sequential_8\"\n",
      "_________________________________________________________________\n",
      "Layer (type)                 Output Shape              Param #   \n",
      "=================================================================\n",
      "L1 (Dense)                   (None, 16)                112       \n",
      "_________________________________________________________________\n",
      "L2 (Dense)                   (None, 8)                 136       \n",
      "_________________________________________________________________\n",
      "L3 (Dense)                   (None, 1)                 9         \n",
      "=================================================================\n",
      "Total params: 257\n",
      "Trainable params: 257\n",
      "Non-trainable params: 0\n",
      "_________________________________________________________________\n"
     ]
    }
   ],
   "source": [
    "#create the model\n",
    "model = Sequential()\n",
    "model.add(Dense(units=16, activation='relu', input_shape=(6,), name='L1'))\n",
    "model.add(Dense(units=8, activation='relu', name='L2'))\n",
    "model.add(Dense(units=1, activation='linear', name='L3'))\n",
    "model.compile(loss='mse', optimizer=opt, metrics=['accuracy','AUC','Precision','Recall'])\n",
    "model.summary()"
   ]
  },
  {
   "cell_type": "code",
   "execution_count": 28,
   "metadata": {},
   "outputs": [
    {
     "name": "stdout",
     "output_type": "stream",
     "text": [
      "Train on 278 samples, validate on 120 samples\n",
      "Epoch 1/30\n",
      "278/278 [==============================] - 0s 950us/sample - loss: 481.9868 - mse: 481.9868 - val_loss: 1015.9986 - val_mse: 1015.9987\n",
      "Epoch 2/30\n",
      "278/278 [==============================] - 0s 83us/sample - loss: 475.2386 - mse: 475.2386 - val_loss: 1002.5488 - val_mse: 1002.5488\n",
      "Epoch 3/30\n",
      "278/278 [==============================] - 0s 86us/sample - loss: 470.2039 - mse: 470.2039 - val_loss: 991.9227 - val_mse: 991.9227\n",
      "Epoch 4/30\n",
      "278/278 [==============================] - 0s 101us/sample - loss: 466.2430 - mse: 466.2430 - val_loss: 983.7724 - val_mse: 983.7725\n",
      "Epoch 5/30\n",
      "278/278 [==============================] - 0s 92us/sample - loss: 462.3060 - mse: 462.3059 - val_loss: 977.1506 - val_mse: 977.1506\n",
      "Epoch 6/30\n",
      "278/278 [==============================] - 0s 104us/sample - loss: 458.1324 - mse: 458.1324 - val_loss: 970.7532 - val_mse: 970.7531\n",
      "Epoch 7/30\n",
      "278/278 [==============================] - 0s 97us/sample - loss: 453.7433 - mse: 453.7433 - val_loss: 963.8969 - val_mse: 963.8969\n",
      "Epoch 8/30\n",
      "278/278 [==============================] - 0s 102us/sample - loss: 449.0884 - mse: 449.0884 - val_loss: 956.5196 - val_mse: 956.5195\n",
      "Epoch 9/30\n",
      "278/278 [==============================] - 0s 104us/sample - loss: 443.8031 - mse: 443.8031 - val_loss: 947.4992 - val_mse: 947.4992\n",
      "Epoch 10/30\n",
      "278/278 [==============================] - 0s 108us/sample - loss: 437.1403 - mse: 437.1403 - val_loss: 936.6576 - val_mse: 936.6575\n",
      "Epoch 11/30\n",
      "278/278 [==============================] - 0s 101us/sample - loss: 428.6262 - mse: 428.6262 - val_loss: 923.8900 - val_mse: 923.8899\n",
      "Epoch 12/30\n",
      "278/278 [==============================] - 0s 111us/sample - loss: 418.2686 - mse: 418.2686 - val_loss: 909.5492 - val_mse: 909.5492\n",
      "Epoch 13/30\n",
      "278/278 [==============================] - 0s 129us/sample - loss: 406.7774 - mse: 406.7774 - val_loss: 894.8014 - val_mse: 894.8014\n",
      "Epoch 14/30\n",
      "278/278 [==============================] - 0s 111us/sample - loss: 394.0181 - mse: 394.0181 - val_loss: 878.4919 - val_mse: 878.4919\n",
      "Epoch 15/30\n",
      "278/278 [==============================] - 0s 101us/sample - loss: 379.9434 - mse: 379.9434 - val_loss: 859.9574 - val_mse: 859.9575\n",
      "Epoch 16/30\n",
      "278/278 [==============================] - 0s 94us/sample - loss: 364.8595 - mse: 364.8596 - val_loss: 840.6134 - val_mse: 840.6133\n",
      "Epoch 17/30\n",
      "278/278 [==============================] - 0s 112us/sample - loss: 348.5554 - mse: 348.5554 - val_loss: 819.1140 - val_mse: 819.1141\n",
      "Epoch 18/30\n",
      "278/278 [==============================] - 0s 130us/sample - loss: 331.1504 - mse: 331.1504 - val_loss: 795.3703 - val_mse: 795.3703\n",
      "Epoch 19/30\n",
      "278/278 [==============================] - 0s 106us/sample - loss: 312.6433 - mse: 312.6433 - val_loss: 768.0462 - val_mse: 768.0461\n",
      "Epoch 20/30\n",
      "278/278 [==============================] - 0s 120us/sample - loss: 292.2103 - mse: 292.2104 - val_loss: 739.2669 - val_mse: 739.2669\n",
      "Epoch 21/30\n",
      "278/278 [==============================] - 0s 122us/sample - loss: 271.4552 - mse: 271.4552 - val_loss: 705.6884 - val_mse: 705.6884\n",
      "Epoch 22/30\n",
      "278/278 [==============================] - 0s 144us/sample - loss: 249.5473 - mse: 249.5473 - val_loss: 670.4572 - val_mse: 670.4572\n",
      "Epoch 23/30\n",
      "278/278 [==============================] - 0s 112us/sample - loss: 227.5907 - mse: 227.5907 - val_loss: 636.4172 - val_mse: 636.4171\n",
      "Epoch 24/30\n",
      "278/278 [==============================] - 0s 138us/sample - loss: 205.5350 - mse: 205.5350 - val_loss: 601.2154 - val_mse: 601.2154\n",
      "Epoch 25/30\n",
      "278/278 [==============================] - 0s 129us/sample - loss: 184.5200 - mse: 184.5200 - val_loss: 565.4005 - val_mse: 565.4005\n",
      "Epoch 26/30\n",
      "278/278 [==============================] - 0s 146us/sample - loss: 163.4062 - mse: 163.4062 - val_loss: 528.4767 - val_mse: 528.4766\n",
      "Epoch 27/30\n",
      "278/278 [==============================] - 0s 107us/sample - loss: 143.6014 - mse: 143.6014 - val_loss: 489.1342 - val_mse: 489.1342\n",
      "Epoch 28/30\n",
      "278/278 [==============================] - 0s 150us/sample - loss: 124.7613 - mse: 124.7613 - val_loss: 453.5673 - val_mse: 453.5673\n",
      "Epoch 29/30\n",
      "278/278 [==============================] - 0s 105us/sample - loss: 107.7705 - mse: 107.7705 - val_loss: 418.0460 - val_mse: 418.0460\n",
      "Epoch 30/30\n",
      "278/278 [==============================] - 0s 145us/sample - loss: 92.4474 - mse: 92.4474 - val_loss: 383.0960 - val_mse: 383.0961\n"
     ]
    }
   ],
   "source": [
    "#fit the model\n",
    "history = model.fit(X, y, epochs=30, batch_size=25, verbose=1, validation_split=0.3, shuffle=True)"
   ]
  },
  {
   "cell_type": "code",
   "execution_count": 29,
   "metadata": {},
   "outputs": [
    {
     "data": {
      "image/png": "[encoded data removed]",
      "text/plain": [
       "<Figure size 864x504 with 1 Axes>"
      ]
     },
     "metadata": {
      "needs_background": "light"
     },
     "output_type": "display_data"
    }
   ],
   "source": [
    "#Plot the output\n",
    "fig, ax1 = plt.subplots(1,1,figsize=(12,7))\n",
    "ax1.plot(history.epoch, history.history['val_mse'], marker='^', color='purple')\n",
    "ax1.plot(history.epoch, history.history['mse'], marker='*', color='orange')\n",
    "ax1.set_xlabel('epochs')\n",
    "ax1.set_ylabel('loss', color='purple')\n",
    "ax1.tick_params('y', colors='purple')\n",
    "plt.title('epochs vs loss');"
   ]
  },
  {
   "cell_type": "code",
   "execution_count": null,
   "metadata": {},
   "outputs": [],
   "source": []
  }
 ],
 "metadata": {
  "kernelspec": {
   "display_name": "Python 3",
   "language": "python",
   "name": "python3"
  },
  "language_info": {
   "codemirror_mode": {
    "name": "ipython",
    "version": 3
   },
   "file_extension": ".py",
   "mimetype": "text/x-python",
   "name": "python",
   "nbconvert_exporter": "python",
   "pygments_lexer": "ipython3",
   "version": "3.7.5"
  }
 },
 "nbformat": 4,
 "nbformat_minor": 4
}
