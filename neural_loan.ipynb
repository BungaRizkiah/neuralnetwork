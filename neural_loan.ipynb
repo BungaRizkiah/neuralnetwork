{
 "cells": [
  {
   "cell_type": "code",
   "execution_count": 84,
   "metadata": {},
   "outputs": [],
   "source": [
    "import numpy as np\n",
    "import pandas as pd\n",
    "import matplotlib.pyplot as plt\n",
    "from sklearn.preprocessing import StandardScaler\n",
    "\n",
    "import tensorflow as tf\n",
    "from tensorflow.keras.models import Sequential\n",
    "from tensorflow.keras.layers import Flatten, Dense, Dropout\n",
    "from tensorflow.keras.optimizers import SGD, Adam\n",
    "\n",
    "np.set_printoptions(suppress=True)\n",
    "%matplotlib inline"
   ]
  },
  {
   "cell_type": "code",
   "execution_count": 85,
   "metadata": {},
   "outputs": [],
   "source": [
    "df = pd.read_csv('loan_data.csv')"
   ]
  },
  {
   "cell_type": "code",
   "execution_count": 86,
   "metadata": {},
   "outputs": [
    {
     "data": {
      "text/html": [
       "<div>\n",
       "<style scoped>\n",
       "    .dataframe tbody tr th:only-of-type {\n",
       "        vertical-align: middle;\n",
       "    }\n",
       "\n",
       "    .dataframe tbody tr th {\n",
       "        vertical-align: top;\n",
       "    }\n",
       "\n",
       "    .dataframe thead th {\n",
       "        text-align: right;\n",
       "    }\n",
       "</style>\n",
       "<table border=\"1\" class=\"dataframe\">\n",
       "  <thead>\n",
       "    <tr style=\"text-align: right;\">\n",
       "      <th></th>\n",
       "      <th>Interest.Rate</th>\n",
       "      <th>FICO.Score</th>\n",
       "      <th>Loan.Length</th>\n",
       "      <th>Monthly.Income</th>\n",
       "      <th>Loan.Amount</th>\n",
       "    </tr>\n",
       "  </thead>\n",
       "  <tbody>\n",
       "    <tr>\n",
       "      <th>6</th>\n",
       "      <td>15.31</td>\n",
       "      <td>670.0</td>\n",
       "      <td>36</td>\n",
       "      <td>4891.67</td>\n",
       "      <td>6000</td>\n",
       "    </tr>\n",
       "    <tr>\n",
       "      <th>11</th>\n",
       "      <td>19.72</td>\n",
       "      <td>670.0</td>\n",
       "      <td>36</td>\n",
       "      <td>3575.00</td>\n",
       "      <td>2000</td>\n",
       "    </tr>\n",
       "    <tr>\n",
       "      <th>12</th>\n",
       "      <td>14.27</td>\n",
       "      <td>665.0</td>\n",
       "      <td>36</td>\n",
       "      <td>4250.00</td>\n",
       "      <td>10625</td>\n",
       "    </tr>\n",
       "    <tr>\n",
       "      <th>13</th>\n",
       "      <td>21.67</td>\n",
       "      <td>670.0</td>\n",
       "      <td>60</td>\n",
       "      <td>14166.67</td>\n",
       "      <td>28000</td>\n",
       "    </tr>\n",
       "    <tr>\n",
       "      <th>21</th>\n",
       "      <td>21.98</td>\n",
       "      <td>665.0</td>\n",
       "      <td>36</td>\n",
       "      <td>6666.67</td>\n",
       "      <td>22000</td>\n",
       "    </tr>\n",
       "  </tbody>\n",
       "</table>\n",
       "</div>"
      ],
      "text/plain": [
       "    Interest.Rate  FICO.Score  Loan.Length  Monthly.Income  Loan.Amount\n",
       "6           15.31       670.0           36         4891.67         6000\n",
       "11          19.72       670.0           36         3575.00         2000\n",
       "12          14.27       665.0           36         4250.00        10625\n",
       "13          21.67       670.0           60        14166.67        28000\n",
       "21          21.98       665.0           36         6666.67        22000"
      ]
     },
     "execution_count": 86,
     "metadata": {},
     "output_type": "execute_result"
    }
   ],
   "source": [
    "df.head()"
   ]
  },
  {
   "cell_type": "code",
   "execution_count": null,
   "metadata": {},
   "outputs": [],
   "source": []
  },
  {
   "cell_type": "code",
   "execution_count": 87,
   "metadata": {},
   "outputs": [
    {
     "name": "stdout",
     "output_type": "stream",
     "text": [
      "<class 'pandas.core.frame.DataFrame'>\n",
      "Int64Index: 2500 entries, 6 to 2497\n",
      "Data columns (total 5 columns):\n",
      "Interest.Rate     2497 non-null float64\n",
      "FICO.Score        2499 non-null float64\n",
      "Loan.Length       2500 non-null int64\n",
      "Monthly.Income    2495 non-null float64\n",
      "Loan.Amount       2500 non-null int64\n",
      "dtypes: float64(3), int64(2)\n",
      "memory usage: 117.2 KB\n"
     ]
    }
   ],
   "source": [
    "df.info()"
   ]
  },
  {
   "cell_type": "code",
   "execution_count": 88,
   "metadata": {},
   "outputs": [],
   "source": [
    "df['Target']=df['Interest.Rate']<9\n"
   ]
  },
  {
   "cell_type": "code",
   "execution_count": 89,
   "metadata": {},
   "outputs": [
    {
     "data": {
      "text/plain": [
       "False    2499\n",
       "True        1\n",
       "Name: FICO.Score, dtype: int64"
      ]
     },
     "execution_count": 89,
     "metadata": {},
     "output_type": "execute_result"
    }
   ],
   "source": [
    "df['FICO.Score'].isnull().value_counts()"
   ]
  },
  {
   "cell_type": "code",
   "execution_count": 90,
   "metadata": {},
   "outputs": [
    {
     "data": {
      "text/plain": [
       "False    2500\n",
       "Name: Loan.Length, dtype: int64"
      ]
     },
     "execution_count": 90,
     "metadata": {},
     "output_type": "execute_result"
    }
   ],
   "source": [
    "df['Loan.Length'].isnull().value_counts()"
   ]
  },
  {
   "cell_type": "code",
   "execution_count": 91,
   "metadata": {},
   "outputs": [
    {
     "data": {
      "text/plain": [
       "False    2495\n",
       "True        5\n",
       "Name: Monthly.Income, dtype: int64"
      ]
     },
     "execution_count": 91,
     "metadata": {},
     "output_type": "execute_result"
    }
   ],
   "source": [
    "df['Monthly.Income'].isnull().value_counts()"
   ]
  },
  {
   "cell_type": "code",
   "execution_count": 92,
   "metadata": {},
   "outputs": [
    {
     "data": {
      "text/plain": [
       "False    2500\n",
       "Name: Loan.Amount, dtype: int64"
      ]
     },
     "execution_count": 92,
     "metadata": {},
     "output_type": "execute_result"
    }
   ],
   "source": [
    "df['Loan.Amount'].isnull().value_counts()"
   ]
  },
  {
   "cell_type": "code",
   "execution_count": 93,
   "metadata": {},
   "outputs": [],
   "source": [
    "#fill NA\n",
    "df.fillna(df['FICO.Score'].mean(), inplace=True)\n",
    "df.fillna(df['Monthly.Income'].mean(), inplace=True)\n"
   ]
  },
  {
   "cell_type": "code",
   "execution_count": 94,
   "metadata": {},
   "outputs": [],
   "source": [
    "y = df.pop('Target').values\n",
    "df.pop('Interest.Rate')\n",
    "x = df.values"
   ]
  },
  {
   "cell_type": "code",
   "execution_count": 95,
   "metadata": {},
   "outputs": [
    {
     "data": {
      "text/plain": [
       "array([[  670.  ,    36.  ,  4891.67,  6000.  ],\n",
       "       [  670.  ,    36.  ,  3575.  ,  2000.  ],\n",
       "       [  665.  ,    36.  ,  4250.  , 10625.  ],\n",
       "       [  670.  ,    60.  , 14166.67, 28000.  ],\n",
       "       [  665.  ,    36.  ,  6666.67, 22000.  ]])"
      ]
     },
     "execution_count": 95,
     "metadata": {},
     "output_type": "execute_result"
    }
   ],
   "source": [
    "x[:5]"
   ]
  },
  {
   "cell_type": "code",
   "execution_count": 68,
   "metadata": {},
   "outputs": [],
   "source": [
    "#scale data \n",
    "scalar = StandardScaler()\n",
    "x_scaled = scalar.fit_transform(x)"
   ]
  },
  {
   "cell_type": "code",
   "execution_count": 69,
   "metadata": {},
   "outputs": [
    {
     "data": {
      "text/plain": [
       "array([[-1.02442697, -0.52984687, -0.19883533, -0.8213478 ],\n",
       "       [-1.02442697, -0.52984687, -0.53080794, -1.33416933],\n",
       "       [-1.16722277, -0.52984687, -0.36061988, -0.22839789],\n",
       "       [-1.02442697,  1.88733775,  2.13967469,  1.99917066],\n",
       "       [-1.16722277, -0.52984687,  0.24869624,  1.22993836]])"
      ]
     },
     "execution_count": 69,
     "metadata": {},
     "output_type": "execute_result"
    }
   ],
   "source": [
    "x_scaled[:5]"
   ]
  },
  {
   "cell_type": "code",
   "execution_count": 70,
   "metadata": {},
   "outputs": [
    {
     "data": {
      "text/plain": [
       "{'name': 'Adam',\n",
       " 'learning_rate': 0.001,\n",
       " 'decay': 0.0,\n",
       " 'beta_1': 0.9,\n",
       " 'beta_2': 0.999,\n",
       " 'epsilon': 1e-07,\n",
       " 'amsgrad': False}"
      ]
     },
     "execution_count": 70,
     "metadata": {},
     "output_type": "execute_result"
    }
   ],
   "source": [
    "#set up the optimizer\n",
    "opt = Adam(learning_rate=0.001)\n",
    "opt.get_config()"
   ]
  },
  {
   "cell_type": "code",
   "execution_count": 104,
   "metadata": {},
   "outputs": [
    {
     "name": "stdout",
     "output_type": "stream",
     "text": [
      "Model: \"sequential_7\"\n",
      "_________________________________________________________________\n",
      "Layer (type)                 Output Shape              Param #   \n",
      "=================================================================\n",
      "L1 (Dense)                   (None, 8)                 40        \n",
      "_________________________________________________________________\n",
      "L2 (Dense)                   (None, 4)                 36        \n",
      "_________________________________________________________________\n",
      "L3 (Dense)                   (None, 1)                 5         \n",
      "=================================================================\n",
      "Total params: 81\n",
      "Trainable params: 81\n",
      "Non-trainable params: 0\n",
      "_________________________________________________________________\n"
     ]
    }
   ],
   "source": [
    "#create the model with 3 layers\n",
    "model = Sequential()\n",
    "model.add(Dense(units=8, activation='relu', input_shape=(4,), name='L1'))\n",
    "model.add(Dense(units=4, activation='relu', name='L2'))\n",
    "model.add(Dense(units=1, activation='sigmoid', name='L3'))\n",
    "model.compile(loss='binary_crossentropy', optimizer=opt, metrics=['accuracy','Precision','Recall','AUC'])\n",
    "model.summary()"
   ]
  },
  {
   "cell_type": "code",
   "execution_count": 105,
   "metadata": {},
   "outputs": [
    {
     "name": "stdout",
     "output_type": "stream",
     "text": [
      "Train on 1750 samples, validate on 750 samples\n",
      "Epoch 1/30\n",
      "1750/1750 [==============================] - 1s 473us/sample - loss: 0.4820 - accuracy: 0.8503 - Precision: 0.1070 - Recall: 0.1739 - AUC: 0.5698 - val_loss: 0.7992 - val_accuracy: 0.4387 - val_Precision: 0.0000e+00 - val_Recall: 0.0000e+00 - val_AUC: 0.6028\n",
      "Epoch 2/30\n",
      "1750/1750 [==============================] - 0s 65us/sample - loss: 0.2070 - accuracy: 0.9343 - Precision: 0.0000e+00 - Recall: 0.0000e+00 - AUC: 0.8412 - val_loss: 0.7785 - val_accuracy: 0.4387 - val_Precision: 0.0000e+00 - val_Recall: 0.0000e+00 - val_AUC: 0.8280\n",
      "Epoch 3/30\n",
      "1750/1750 [==============================] - 0s 66us/sample - loss: 0.1572 - accuracy: 0.9343 - Precision: 0.0000e+00 - Recall: 0.0000e+00 - AUC: 0.9347 - val_loss: 0.6258 - val_accuracy: 0.6320 - val_Precision: 0.9096 - val_Recall: 0.3824 - val_AUC: 0.8654\n",
      "Epoch 4/30\n",
      "1750/1750 [==============================] - 0s 64us/sample - loss: 0.1412 - accuracy: 0.9377 - Precision: 0.6875 - Recall: 0.0957 - AUC: 0.9451 - val_loss: 0.5210 - val_accuracy: 0.7413 - val_Precision: 0.8673 - val_Recall: 0.6366 - val_AUC: 0.8692\n",
      "Epoch 5/30\n",
      "1750/1750 [==============================] - 0s 63us/sample - loss: 0.1355 - accuracy: 0.9446 - Precision: 0.6607 - Recall: 0.3217 - AUC: 0.9453 - val_loss: 0.4767 - val_accuracy: 0.7813 - val_Precision: 0.8482 - val_Recall: 0.7435 - val_AUC: 0.8710\n",
      "Epoch 6/30\n",
      "1750/1750 [==============================] - 0s 63us/sample - loss: 0.1329 - accuracy: 0.9446 - Precision: 0.6250 - Recall: 0.3913 - AUC: 0.9469 - val_loss: 0.4707 - val_accuracy: 0.7853 - val_Precision: 0.8533 - val_Recall: 0.7458 - val_AUC: 0.8722\n",
      "Epoch 7/30\n",
      "1750/1750 [==============================] - 0s 66us/sample - loss: 0.1314 - accuracy: 0.9451 - Precision: 0.6418 - Recall: 0.3739 - AUC: 0.9474 - val_loss: 0.4551 - val_accuracy: 0.7853 - val_Precision: 0.8421 - val_Recall: 0.7601 - val_AUC: 0.8727\n",
      "Epoch 8/30\n",
      "1750/1750 [==============================] - 0s 66us/sample - loss: 0.1308 - accuracy: 0.9434 - Precision: 0.6176 - Recall: 0.3652 - AUC: 0.9481 - val_loss: 0.4472 - val_accuracy: 0.7893 - val_Precision: 0.8329 - val_Recall: 0.7815 - val_AUC: 0.8731\n",
      "Epoch 9/30\n",
      "1750/1750 [==============================] - 0s 65us/sample - loss: 0.1306 - accuracy: 0.9429 - Precision: 0.5974 - Recall: 0.4000 - AUC: 0.9478 - val_loss: 0.4402 - val_accuracy: 0.7960 - val_Precision: 0.8317 - val_Recall: 0.7981 - val_AUC: 0.8733\n",
      "Epoch 10/30\n",
      "1750/1750 [==============================] - 0s 66us/sample - loss: 0.1300 - accuracy: 0.9411 - Precision: 0.5714 - Recall: 0.4174 - AUC: 0.9487 - val_loss: 0.4444 - val_accuracy: 0.7947 - val_Precision: 0.8363 - val_Recall: 0.7886 - val_AUC: 0.8735\n",
      "Epoch 11/30\n",
      "1750/1750 [==============================] - 0s 63us/sample - loss: 0.1299 - accuracy: 0.9423 - Precision: 0.6061 - Recall: 0.3478 - AUC: 0.9454 - val_loss: 0.4407 - val_accuracy: 0.7947 - val_Precision: 0.8313 - val_Recall: 0.7957 - val_AUC: 0.8737\n",
      "Epoch 12/30\n",
      "1750/1750 [==============================] - 0s 63us/sample - loss: 0.1293 - accuracy: 0.9429 - Precision: 0.5949 - Recall: 0.4087 - AUC: 0.9463 - val_loss: 0.4377 - val_accuracy: 0.7973 - val_Precision: 0.8289 - val_Recall: 0.8052 - val_AUC: 0.8738\n",
      "Epoch 13/30\n",
      "1750/1750 [==============================] - 0s 63us/sample - loss: 0.1293 - accuracy: 0.9440 - Precision: 0.6133 - Recall: 0.4000 - AUC: 0.9466 - val_loss: 0.4426 - val_accuracy: 0.7960 - val_Precision: 0.8350 - val_Recall: 0.7933 - val_AUC: 0.8735\n",
      "Epoch 14/30\n",
      "1750/1750 [==============================] - 0s 67us/sample - loss: 0.1293 - accuracy: 0.9429 - Precision: 0.6000 - Recall: 0.3913 - AUC: 0.9459 - val_loss: 0.4380 - val_accuracy: 0.7947 - val_Precision: 0.8264 - val_Recall: 0.8029 - val_AUC: 0.8735\n",
      "Epoch 15/30\n",
      "1750/1750 [==============================] - 0s 65us/sample - loss: 0.1289 - accuracy: 0.9440 - Precision: 0.6104 - Recall: 0.4087 - AUC: 0.9470 - val_loss: 0.4359 - val_accuracy: 0.8000 - val_Precision: 0.8265 - val_Recall: 0.8147 - val_AUC: 0.8734\n",
      "Epoch 16/30\n",
      "1750/1750 [==============================] - 0s 67us/sample - loss: 0.1286 - accuracy: 0.9434 - Precision: 0.6026 - Recall: 0.4087 - AUC: 0.9468 - val_loss: 0.4377 - val_accuracy: 0.7960 - val_Precision: 0.8268 - val_Recall: 0.8052 - val_AUC: 0.8732\n",
      "Epoch 17/30\n",
      "1750/1750 [==============================] - 0s 66us/sample - loss: 0.1284 - accuracy: 0.9434 - Precision: 0.6081 - Recall: 0.3913 - AUC: 0.9474 - val_loss: 0.4374 - val_accuracy: 0.8000 - val_Precision: 0.8281 - val_Recall: 0.8124 - val_AUC: 0.8733\n",
      "Epoch 18/30\n",
      "1750/1750 [==============================] - 0s 66us/sample - loss: 0.1281 - accuracy: 0.9446 - Precision: 0.6184 - Recall: 0.4087 - AUC: 0.9474 - val_loss: 0.4338 - val_accuracy: 0.8013 - val_Precision: 0.8254 - val_Recall: 0.8195 - val_AUC: 0.8734\n",
      "Epoch 19/30\n",
      "1750/1750 [==============================] - 0s 69us/sample - loss: 0.1283 - accuracy: 0.9446 - Precision: 0.6184 - Recall: 0.4087 - AUC: 0.9472 - val_loss: 0.4372 - val_accuracy: 0.7987 - val_Precision: 0.8261 - val_Recall: 0.8124 - val_AUC: 0.8732\n",
      "Epoch 20/30\n",
      "1750/1750 [==============================] - 0s 70us/sample - loss: 0.1278 - accuracy: 0.9434 - Precision: 0.6081 - Recall: 0.3913 - AUC: 0.9476 - val_loss: 0.4337 - val_accuracy: 0.7987 - val_Precision: 0.8199 - val_Recall: 0.8219 - val_AUC: 0.8729\n",
      "Epoch 21/30\n",
      "1750/1750 [==============================] - 0s 64us/sample - loss: 0.1278 - accuracy: 0.9434 - Precision: 0.6053 - Recall: 0.4000 - AUC: 0.9476 - val_loss: 0.4325 - val_accuracy: 0.8013 - val_Precision: 0.8192 - val_Recall: 0.8290 - val_AUC: 0.8729\n",
      "Epoch 22/30\n",
      "1750/1750 [==============================] - 0s 65us/sample - loss: 0.1277 - accuracy: 0.9440 - Precision: 0.6104 - Recall: 0.4087 - AUC: 0.9477 - val_loss: 0.4336 - val_accuracy: 0.8000 - val_Precision: 0.8219 - val_Recall: 0.8219 - val_AUC: 0.8728\n",
      "Epoch 23/30\n",
      "1750/1750 [==============================] - 0s 69us/sample - loss: 0.1277 - accuracy: 0.9434 - Precision: 0.6026 - Recall: 0.4087 - AUC: 0.9478 - val_loss: 0.4326 - val_accuracy: 0.8000 - val_Precision: 0.8188 - val_Recall: 0.8266 - val_AUC: 0.8729\n",
      "Epoch 24/30\n",
      "1750/1750 [==============================] - 0s 70us/sample - loss: 0.1275 - accuracy: 0.9423 - Precision: 0.5897 - Recall: 0.4000 - AUC: 0.9480 - val_loss: 0.4337 - val_accuracy: 0.8000 - val_Precision: 0.8219 - val_Recall: 0.8219 - val_AUC: 0.8727\n",
      "Epoch 25/30\n",
      "1750/1750 [==============================] - 0s 69us/sample - loss: 0.1274 - accuracy: 0.9440 - Precision: 0.6049 - Recall: 0.4261 - AUC: 0.9482 - val_loss: 0.4326 - val_accuracy: 0.8027 - val_Precision: 0.8212 - val_Recall: 0.8290 - val_AUC: 0.8724\n",
      "Epoch 26/30\n",
      "1750/1750 [==============================] - 0s 64us/sample - loss: 0.1274 - accuracy: 0.9434 - Precision: 0.6026 - Recall: 0.4087 - AUC: 0.9476 - val_loss: 0.4334 - val_accuracy: 0.7973 - val_Precision: 0.8210 - val_Recall: 0.8171 - val_AUC: 0.8727\n",
      "Epoch 27/30\n",
      "1750/1750 [==============================] - 0s 65us/sample - loss: 0.1272 - accuracy: 0.9440 - Precision: 0.6133 - Recall: 0.4000 - AUC: 0.9484 - val_loss: 0.4331 - val_accuracy: 0.8000 - val_Precision: 0.8203 - val_Recall: 0.8242 - val_AUC: 0.8723\n",
      "Epoch 28/30\n",
      "1750/1750 [==============================] - 0s 72us/sample - loss: 0.1274 - accuracy: 0.9440 - Precision: 0.6133 - Recall: 0.4000 - AUC: 0.9481 - val_loss: 0.4316 - val_accuracy: 0.8000 - val_Precision: 0.8159 - val_Recall: 0.8314 - val_AUC: 0.8722\n",
      "Epoch 29/30\n",
      "1750/1750 [==============================] - 0s 66us/sample - loss: 0.1271 - accuracy: 0.9434 - Precision: 0.5976 - Recall: 0.4261 - AUC: 0.9482 - val_loss: 0.4315 - val_accuracy: 0.7987 - val_Precision: 0.8169 - val_Recall: 0.8266 - val_AUC: 0.8718\n",
      "Epoch 30/30\n",
      "1750/1750 [==============================] - 0s 63us/sample - loss: 0.1269 - accuracy: 0.9429 - Precision: 0.6000 - Recall: 0.3913 - AUC: 0.9485 - val_loss: 0.4327 - val_accuracy: 0.8013 - val_Precision: 0.8208 - val_Recall: 0.8266 - val_AUC: 0.8711\n"
     ]
    }
   ],
   "source": [
    "#fit the model\n",
    "history = model.fit(x_scaled, y, epochs=30, batch_size=25, verbose=1, validation_split=0.3, shuffle=True)"
   ]
  },
  {
   "cell_type": "code",
   "execution_count": 114,
   "metadata": {},
   "outputs": [
    {
     "name": "stderr",
     "output_type": "stream",
     "text": [
      "No handles with labels found to put in legend.\n"
     ]
    },
    {
     "data": {
      "image/png": "[encoded data removed]",
      "text/plain": [
       "<Figure size 864x504 with 1 Axes>"
      ]
     },
     "metadata": {
      "needs_background": "light"
     },
     "output_type": "display_data"
    }
   ],
   "source": [
    "#Plot the output\n",
    "fig, ax1 = plt.subplots(1,1,figsize=(12,7))\n",
    "\n",
    "ax1.plot(history.epoch, history.history['val_accuracy'], marker='^', color='purple')\n",
    "ax1.plot(history.epoch, history.history['val_Precision'], marker='*', color='orange')\n",
    "ax1.plot(history.epoch, history.history['val_AUC'], marker=True, color='green')\n",
    "ax1.plot(history.epoch, history.history['val_Recall'], marker='*', color='blue')\n",
    "\n",
    "ax1.set_xlabel('epochs')\n",
    "ax1.set_ylabel('loss', color='purple')\n",
    "ax1.tick_params('y', colors='purple')\n",
    "plt.title('epochs vs loss')\n",
    "plt.legend();"
   ]
  },
  {
   "cell_type": "code",
   "execution_count": null,
   "metadata": {},
   "outputs": [],
   "source": []
  },
  {
   "cell_type": "code",
   "execution_count": null,
   "metadata": {},
   "outputs": [],
   "source": []
  },
  {
   "cell_type": "code",
   "execution_count": null,
   "metadata": {},
   "outputs": [],
   "source": []
  },
  {
   "cell_type": "code",
   "execution_count": null,
   "metadata": {},
   "outputs": [],
   "source": []
  }
 ],
 "metadata": {
  "kernelspec": {
   "display_name": "Python 3",
   "language": "python",
   "name": "python3"
  },
  "language_info": {
   "codemirror_mode": {
    "name": "ipython",
    "version": 3
   },
   "file_extension": ".py",
   "mimetype": "text/x-python",
   "name": "python",
   "nbconvert_exporter": "python",
   "pygments_lexer": "ipython3",
   "version": "3.7.5"
  }
 },
 "nbformat": 4,
 "nbformat_minor": 4
}
